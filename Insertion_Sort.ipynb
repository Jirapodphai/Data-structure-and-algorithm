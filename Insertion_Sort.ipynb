{
 "cells": [
  {
   "cell_type": "code",
   "execution_count": 1,
   "id": "c1edcbf5",
   "metadata": {},
   "outputs": [],
   "source": [
    "#Constant\n",
    "j = 1 "
   ]
  },
  {
   "cell_type": "code",
   "execution_count": 2,
   "id": "5f0892fa",
   "metadata": {},
   "outputs": [
    {
     "name": "stdout",
     "output_type": "stream",
     "text": [
      "[4, 3, 2, 10, 12, 1, 5, 6]\n"
     ]
    }
   ],
   "source": [
    "#Create Array\n",
    "\n",
    "A = [4, 3, 2, 10, 12, 1, 5, 6]\n",
    "print(A)"
   ]
  },
  {
   "cell_type": "code",
   "execution_count": 3,
   "id": "abcb12f2",
   "metadata": {},
   "outputs": [],
   "source": [
    "#Apply insertion sort\n",
    "\n",
    "for x in range(j, len(A)):\n",
    "    key = A[x]\n",
    "    i = x - 1\n",
    "    while i >= 0 and A[i] > key :\n",
    "        A[i + 1] = A[i]\n",
    "        i = i - 1\n",
    "        A[i + 1] = key"
   ]
  },
  {
   "cell_type": "code",
   "execution_count": 4,
   "id": "f7956868",
   "metadata": {},
   "outputs": [
    {
     "name": "stdout",
     "output_type": "stream",
     "text": [
      "[1, 2, 3, 4, 5, 6, 10, 12]\n"
     ]
    }
   ],
   "source": [
    "print(A)"
   ]
  },
  {
   "cell_type": "code",
   "execution_count": null,
   "id": "bc6381c4",
   "metadata": {},
   "outputs": [],
   "source": []
  },
  {
   "cell_type": "code",
   "execution_count": null,
   "id": "7ecf9b1f",
   "metadata": {},
   "outputs": [],
   "source": []
  }
 ],
 "metadata": {
  "kernelspec": {
   "display_name": "Python 3",
   "language": "python",
   "name": "python3"
  },
  "language_info": {
   "codemirror_mode": {
    "name": "ipython",
    "version": 3
   },
   "file_extension": ".py",
   "mimetype": "text/x-python",
   "name": "python",
   "nbconvert_exporter": "python",
   "pygments_lexer": "ipython3",
   "version": "3.8.8"
  }
 },
 "nbformat": 4,
 "nbformat_minor": 5
}
