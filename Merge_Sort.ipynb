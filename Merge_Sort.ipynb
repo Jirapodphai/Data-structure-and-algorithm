{
 "cells": [
  {
   "cell_type": "code",
   "execution_count": 15,
   "id": "0c0acae6",
   "metadata": {},
   "outputs": [],
   "source": [
    "#Input array\n",
    "A = [4, 2, 3, 10, 18, 15, 14, 11]"
   ]
  },
  {
   "cell_type": "code",
   "execution_count": 16,
   "id": "84c2e414",
   "metadata": {},
   "outputs": [],
   "source": [
    "def merge_sort(A):\n",
    "    \n",
    "    print(\"Array :\",A)\n",
    "    \n",
    "    #Recursion\n",
    "    \n",
    "    if len(A) > 1:\n",
    "        p = 0\n",
    "        q = len(A)//2 # Midpoint\n",
    "        r = len(A)\n",
    "        L_array = A[:q] # Array on the left\n",
    "        R_array = A[q:] # Array on the right\n",
    "         \n",
    "        \n",
    "        #Extract array using recursion\n",
    "        merge_sort(L_array)\n",
    "        merge_sort(R_array)\n",
    "     \n",
    "        n1 = q - p\n",
    "        n2 = r - q\n",
    "        \n",
    "        # i for component on the left, j for compenent in the right, k for result array\n",
    "        i = 0\n",
    "        j = 0\n",
    "        k = 0\n",
    "        \n",
    "        print(\"n1 :\",n1,\"n2 :\",n2, \"A :\",A)\n",
    "        while i < n1 and j < n2:\n",
    "            #Compare the value of left and right array\n",
    "            if L_array[i] >= R_array[j] :\n",
    "                A[k] = R_array[j]\n",
    "                j = j+1\n",
    "                k = k+1\n",
    "\n",
    "            elif L_array[i] < R_array[j] :\n",
    "                A[k] = L_array[i]\n",
    "                i = i+1\n",
    "                k = k+1\n",
    "        \n",
    "        #Copy the remaining value        \n",
    "        while len(L_array) > i :\n",
    "            A[k] = L_array[i]\n",
    "            i = i+1\n",
    "            k = k+1\n",
    "        while len(R_array) > j :\n",
    "            A[k] = R_array[j]\n",
    "            j = j+1\n",
    "            k = k+1\n",
    "            \n",
    "        print(\"Sorted array A:\",A)\n",
    "            \n",
    "        \n",
    "        \n",
    "        \n",
    "        \n",
    "        \n",
    "        \n",
    "        \n"
   ]
  },
  {
   "cell_type": "code",
   "execution_count": 17,
   "id": "e0e3f170",
   "metadata": {},
   "outputs": [
    {
     "name": "stdout",
     "output_type": "stream",
     "text": [
      "Array : [4, 2, 3, 10, 18, 15, 14, 11]\n",
      "Array : [4, 2, 3, 10]\n",
      "Array : [4, 2]\n",
      "Array : [4]\n",
      "Array : [2]\n",
      "n1 : 1 n2 : 1 A : [4, 2]\n",
      "Sorted array A: [2, 4]\n",
      "Array : [3, 10]\n",
      "Array : [3]\n",
      "Array : [10]\n",
      "n1 : 1 n2 : 1 A : [3, 10]\n",
      "Sorted array A: [3, 10]\n",
      "n1 : 2 n2 : 2 A : [4, 2, 3, 10]\n",
      "Sorted array A: [2, 3, 4, 10]\n",
      "Array : [18, 15, 14, 11]\n",
      "Array : [18, 15]\n",
      "Array : [18]\n",
      "Array : [15]\n",
      "n1 : 1 n2 : 1 A : [18, 15]\n",
      "Sorted array A: [15, 18]\n",
      "Array : [14, 11]\n",
      "Array : [14]\n",
      "Array : [11]\n",
      "n1 : 1 n2 : 1 A : [14, 11]\n",
      "Sorted array A: [11, 14]\n",
      "n1 : 2 n2 : 2 A : [18, 15, 14, 11]\n",
      "Sorted array A: [11, 14, 15, 18]\n",
      "n1 : 4 n2 : 4 A : [4, 2, 3, 10, 18, 15, 14, 11]\n",
      "Sorted array A: [2, 3, 4, 10, 11, 14, 15, 18]\n"
     ]
    }
   ],
   "source": [
    "merge_sort(A)"
   ]
  },
  {
   "cell_type": "code",
   "execution_count": null,
   "id": "03f1cf76",
   "metadata": {},
   "outputs": [],
   "source": []
  }
 ],
 "metadata": {
  "kernelspec": {
   "display_name": "Python 3",
   "language": "python",
   "name": "python3"
  },
  "language_info": {
   "codemirror_mode": {
    "name": "ipython",
    "version": 3
   },
   "file_extension": ".py",
   "mimetype": "text/x-python",
   "name": "python",
   "nbconvert_exporter": "python",
   "pygments_lexer": "ipython3",
   "version": "3.8.8"
  }
 },
 "nbformat": 4,
 "nbformat_minor": 5
}
